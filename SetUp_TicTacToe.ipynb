{
 "cells": [
  {
   "cell_type": "code",
   "execution_count": 44,
   "metadata": {},
   "outputs": [],
   "source": [
    "import matplotlib.pyplot as plt\n",
    "import numpy as np\n",
    "import random"
   ]
  },
  {
   "cell_type": "markdown",
   "metadata": {},
   "source": [
    "# Primeros intentos."
   ]
  },
  {
   "cell_type": "markdown",
   "metadata": {},
   "source": [
    "La verdad es que ahora vamos a ver primer cómo representar el gato, la primer aproximación es una matriz donde las _X_ serán representadas por $1$ y las _O_ por $-1$. Vamos a pensar que los lugares vacíos son representados por $0$. Así pues, lo que tenemos es lo siguiente:"
   ]
  },
  {
   "cell_type": "code",
   "execution_count": 2,
   "metadata": {},
   "outputs": [],
   "source": [
    "def crear_tablero():\n",
    "    \"\"\"\n",
    "    Este método construye un tablero\n",
    "    en forma de matriz cuadrada de\n",
    "    tamaño 3\n",
    "    \n",
    "    Returns\n",
    "    -------\n",
    "    numpy.ndarray\n",
    "        A numpy array with shape (3,3) and\n",
    "        filled with zeros.\n",
    "    \"\"\"\n",
    "    return np.zeros((3,3))"
   ]
  },
  {
   "cell_type": "code",
   "execution_count": 3,
   "metadata": {},
   "outputs": [
    {
     "name": "stdout",
     "output_type": "stream",
     "text": [
      "Un tablero vacío:\n",
      "[[0. 0. 0.]\n",
      " [0. 0. 0.]\n",
      " [0. 0. 0.]]\n"
     ]
    }
   ],
   "source": [
    "print('Un tablero vacío:')\n",
    "print(crear_tablero())"
   ]
  },
  {
   "cell_type": "markdown",
   "metadata": {},
   "source": [
    "Ahora, vamos a crear una función para verificar si alguno de los participanes ya ganó.  \n",
    "Primero vamos a empezar con alguno de los renglones."
   ]
  },
  {
   "cell_type": "code",
   "execution_count": 4,
   "metadata": {},
   "outputs": [],
   "source": [
    "def win_linea(tablero,transpuesta=False):\n",
    "    \"\"\"\n",
    "    Este método recibe un talbero y determina si\n",
    "    hay tres elementos iguales en algún renglón.\n",
    "    Si se introduce la matriz transpuesta se indica\n",
    "    y regresa la matriz transpuesta.\n",
    "    \n",
    "    Parameters\n",
    "    ----------\n",
    "    tablero : numpy.ndarray\n",
    "        Es un numpy.ndarray de shape (3,3) el cual\n",
    "        simula un tablero de gato\n",
    "    transpuesta : bool\n",
    "        Si se introduce el tablero transpuesto se indica.\n",
    "    \n",
    "    Returns\n",
    "    -------\n",
    "    estados : dict\n",
    "        Settings dictionary with keys:\n",
    "            ``1``\n",
    "                Indicates if 1 won (`bool`).\n",
    "            ``-1``\n",
    "                Indicates if -1 won (`bool`).\n",
    "            ``\"tablero\"``\n",
    "                El mismo tablero que se introduce  (`numpy.ndarray`).\n",
    "    \"\"\"\n",
    "    estados = {1:False,-1:False,'tablero':tablero.T if transpuesta else tablero}\n",
    "    for i in range(3):\n",
    "        if np.all(tablero[i,:] == tablero[i,0]) and tablero[i,0] != 0:\n",
    "            print('Ganó '+str(tablero[i,0]))\n",
    "            estados[tablero[i,0]] = True\n",
    "            return estados\n",
    "    return estados\n",
    "\n",
    "def win_diagonal(tablero):\n",
    "    \"\"\"\n",
    "    Este método recibe un talbero y determina si\n",
    "    hay tres elementos iguales en algún renglón.\n",
    "    Si se introduce la matriz transpuesta se indica\n",
    "    y regresa la matriz transpuesta.\n",
    "    \n",
    "    Parameters\n",
    "    ----------\n",
    "    tablero : numpy.ndarray\n",
    "        Es un numpy.ndarray de shape (3,3) el cual\n",
    "        simula un tablero de gato\n",
    "    transpuesta : bool\n",
    "        Si se introduce el tablero transpuesto se indica.\n",
    "    \n",
    "    Returns\n",
    "    -------\n",
    "    estados : dict\n",
    "        Settings dictionary with keys:\n",
    "            ``1``\n",
    "                Indicates if 1 won (`bool`).\n",
    "            ``-1``\n",
    "                Indicates if -1 won (`bool`).\n",
    "            ``\"tablero\"``\n",
    "                El mismo tablero que se introduce  (`numpy.ndarray`).\n",
    "    \"\"\"\n",
    "    estados = {1:False,-1:False,'tablero':tablero}\n",
    "    \n",
    "    if np.all(tablero.diagonal() == tablero.diagonal()[0]) and  tablero.diagonal()[0] != 0:\n",
    "        print('Ganó '+str(tablero.diagonal()[0]))\n",
    "        estados[tablero.diagonal()[0]] = True\n",
    "    elif np.all(np.rot90(tablero).diagonal() == np.rot90(tablero).diagonal()[0]) and np.rot90(tablero).diagonal()[0] != 0:\n",
    "        print('Ganó '+str(np.rot90(tablero).diagonal()[0]))\n",
    "        estados[np.rot90(tablero).diagonal()[0]] = True\n",
    "    return estados"
   ]
  },
  {
   "cell_type": "code",
   "execution_count": 53,
   "metadata": {},
   "outputs": [],
   "source": [
    "def tirada_aleatoria(tablero):\n",
    "    return np.random.choice(np.where(tablero.reshape(tablero.size)==0)[0])"
   ]
  },
  {
   "cell_type": "code",
   "execution_count": 56,
   "metadata": {},
   "outputs": [],
   "source": [
    "def jugar():\n",
    "    \n",
    "    tirada = 1\n",
    "    tablero = crear_tablero()\n",
    "    while True:\n",
    "        print(tablero)\n",
    "        if tirada == 1:\n",
    "            coord = input('Dame las coodenadas para tirar')\n",
    "            if tablero.reshape(tablero.size)[int(coord)] == 0:\n",
    "                tablero.reshape(tablero.size)[int(coord)] = tirada\n",
    "            else:\n",
    "                print('Lugar ocuapdo, tira de nuevo')\n",
    "                continue\n",
    "        else:\n",
    "            tablero.reshape(tablero.size)[tirada_aleatoria(tablero)] = tirada\n",
    "        if win_linea(tablero)[1] or win_linea(tablero.T,transpuesta=True)[1] or win_diagonal(tablero)[1]:\n",
    "            print(tablero)\n",
    "            break\n",
    "        elif win_linea(tablero)[-1] or win_linea(tablero.T,transpuesta=True)[-1] or win_diagonal(tablero)[-1]:\n",
    "            print(tablero)\n",
    "            break\n",
    "        else:\n",
    "            tirada = -1*tirada\n",
    "            if 0 in tablero.reshape(tablero.size):\n",
    "                pass\n",
    "            else:\n",
    "                print('Empate')\n",
    "                print(tablero)\n",
    "                break"
   ]
  },
  {
   "cell_type": "code",
   "execution_count": 57,
   "metadata": {},
   "outputs": [
    {
     "name": "stdout",
     "output_type": "stream",
     "text": [
      "[[0. 0. 0.]\n",
      " [0. 0. 0.]\n",
      " [0. 0. 0.]]\n"
     ]
    },
    {
     "name": "stdin",
     "output_type": "stream",
     "text": [
      "Dame las coodenadas para tirar 0\n"
     ]
    },
    {
     "name": "stdout",
     "output_type": "stream",
     "text": [
      "[[1. 0. 0.]\n",
      " [0. 0. 0.]\n",
      " [0. 0. 0.]]\n",
      "[[ 1.  0.  0.]\n",
      " [ 0.  0.  0.]\n",
      " [-1.  0.  0.]]\n"
     ]
    },
    {
     "name": "stdin",
     "output_type": "stream",
     "text": [
      "Dame las coodenadas para tirar 2\n"
     ]
    },
    {
     "name": "stdout",
     "output_type": "stream",
     "text": [
      "[[ 1.  0.  1.]\n",
      " [ 0.  0.  0.]\n",
      " [-1.  0.  0.]]\n",
      "[[ 1.  0.  1.]\n",
      " [ 0.  0.  0.]\n",
      " [-1. -1.  0.]]\n"
     ]
    },
    {
     "name": "stdin",
     "output_type": "stream",
     "text": [
      "Dame las coodenadas para tirar 8\n"
     ]
    },
    {
     "name": "stdout",
     "output_type": "stream",
     "text": [
      "[[ 1.  0.  1.]\n",
      " [ 0.  0.  0.]\n",
      " [-1. -1.  1.]]\n",
      "[[ 1. -1.  1.]\n",
      " [ 0.  0.  0.]\n",
      " [-1. -1.  1.]]\n"
     ]
    },
    {
     "name": "stdin",
     "output_type": "stream",
     "text": [
      "Dame las coodenadas para tirar 3\n"
     ]
    },
    {
     "name": "stdout",
     "output_type": "stream",
     "text": [
      "[[ 1. -1.  1.]\n",
      " [ 1.  0.  0.]\n",
      " [-1. -1.  1.]]\n",
      "[[ 1. -1.  1.]\n",
      " [ 1.  0. -1.]\n",
      " [-1. -1.  1.]]\n"
     ]
    },
    {
     "name": "stdin",
     "output_type": "stream",
     "text": [
      "Dame las coodenadas para tirar 4\n"
     ]
    },
    {
     "name": "stdout",
     "output_type": "stream",
     "text": [
      "Ganó 1.0\n",
      "[[ 1. -1.  1.]\n",
      " [ 1.  1. -1.]\n",
      " [-1. -1.  1.]]\n"
     ]
    }
   ],
   "source": [
    "jugar()"
   ]
  }
 ],
 "metadata": {
  "kernelspec": {
   "display_name": "Python 3",
   "language": "python",
   "name": "python3"
  },
  "language_info": {
   "codemirror_mode": {
    "name": "ipython",
    "version": 3
   },
   "file_extension": ".py",
   "mimetype": "text/x-python",
   "name": "python",
   "nbconvert_exporter": "python",
   "pygments_lexer": "ipython3",
   "version": "3.7.3"
  }
 },
 "nbformat": 4,
 "nbformat_minor": 4
}
