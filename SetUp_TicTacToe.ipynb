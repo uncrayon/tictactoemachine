{
 "cells": [
  {
   "cell_type": "code",
   "execution_count": 114,
   "metadata": {},
   "outputs": [],
   "source": [
    "from collections import Counter\n",
    "import matplotlib.pyplot as plt\n",
    "import seaborn as sbn\n",
    "import numpy as np\n",
    "import random"
   ]
  },
  {
   "cell_type": "code",
   "execution_count": 115,
   "metadata": {},
   "outputs": [],
   "source": [
    "sbn.set()"
   ]
  },
  {
   "cell_type": "markdown",
   "metadata": {},
   "source": [
    "# Primeros intentos."
   ]
  },
  {
   "cell_type": "markdown",
   "metadata": {},
   "source": [
    "La verdad es que ahora vamos a ver primer cómo representar el gato, la primer aproximación es una matriz donde las _X_ serán representadas por $1$ y las _O_ por $-1$. Vamos a pensar que los lugares vacíos son representados por $0$. Así pues, lo que tenemos es lo siguiente:"
   ]
  },
  {
   "cell_type": "code",
   "execution_count": 2,
   "metadata": {},
   "outputs": [],
   "source": [
    "def crear_tablero():\n",
    "    \"\"\"\n",
    "    Este método construye un tablero\n",
    "    en forma de matriz cuadrada de\n",
    "    tamaño 3\n",
    "    \n",
    "    Returns\n",
    "    -------\n",
    "    numpy.ndarray\n",
    "        A numpy array with shape (3,3) and\n",
    "        filled with zeros.\n",
    "    \"\"\"\n",
    "    return np.zeros((3,3))"
   ]
  },
  {
   "cell_type": "code",
   "execution_count": 3,
   "metadata": {},
   "outputs": [
    {
     "name": "stdout",
     "output_type": "stream",
     "text": [
      "Un tablero vacío:\n",
      "[[0. 0. 0.]\n",
      " [0. 0. 0.]\n",
      " [0. 0. 0.]]\n"
     ]
    }
   ],
   "source": [
    "print('Un tablero vacío:')\n",
    "print(crear_tablero())"
   ]
  },
  {
   "cell_type": "markdown",
   "metadata": {},
   "source": [
    "Ahora, vamos a crear una función para verificar si alguno de los participanes ya ganó.  \n",
    "Primero vamos a empezar con alguno de los renglones."
   ]
  },
  {
   "cell_type": "code",
   "execution_count": 4,
   "metadata": {},
   "outputs": [],
   "source": [
    "def win_linea(tablero,transpuesta=False):\n",
    "    \"\"\"\n",
    "    Este método recibe un talbero y determina si\n",
    "    hay tres elementos iguales en algún renglón.\n",
    "    Si se introduce la matriz transpuesta se indica\n",
    "    y regresa la matriz transpuesta.\n",
    "    \n",
    "    Parameters\n",
    "    ----------\n",
    "    tablero : numpy.ndarray\n",
    "        Es un numpy.ndarray de shape (3,3) el cual\n",
    "        simula un tablero de gato\n",
    "    transpuesta : bool\n",
    "        Si se introduce el tablero transpuesto se indica.\n",
    "    \n",
    "    Returns\n",
    "    -------\n",
    "    estados : dict\n",
    "        Settings dictionary with keys:\n",
    "            ``1``\n",
    "                Indicates if 1 won (`bool`).\n",
    "            ``-1``\n",
    "                Indicates if -1 won (`bool`).\n",
    "            ``\"tablero\"``\n",
    "                El mismo tablero que se introduce  (`numpy.ndarray`).\n",
    "    \"\"\"\n",
    "    estados = {1:False,-1:False,'tablero':tablero.T if transpuesta else tablero}\n",
    "    for i in range(3):\n",
    "        if np.all(tablero[i,:] == tablero[i,0]) and tablero[i,0] != 0:\n",
    "            estados[tablero[i,0]] = True\n",
    "            return estados\n",
    "    return estados\n",
    "\n",
    "def win_diagonal(tablero):\n",
    "    \"\"\"\n",
    "    Este método recibe un talbero y determina si\n",
    "    hay tres elementos iguales en algún renglón.\n",
    "    Si se introduce la matriz transpuesta se indica\n",
    "    y regresa la matriz transpuesta.\n",
    "    \n",
    "    Parameters\n",
    "    ----------\n",
    "    tablero : numpy.ndarray\n",
    "        Es un numpy.ndarray de shape (3,3) el cual\n",
    "        simula un tablero de gato\n",
    "    transpuesta : bool\n",
    "        Si se introduce el tablero transpuesto se indica.\n",
    "    \n",
    "    Returns\n",
    "    -------\n",
    "    estados : dict\n",
    "        Settings dictionary with keys:\n",
    "            ``1``\n",
    "                Indicates if 1 won (`bool`).\n",
    "            ``-1``\n",
    "                Indicates if -1 won (`bool`).\n",
    "            ``\"tablero\"``\n",
    "                El mismo tablero que se introduce  (`numpy.ndarray`).\n",
    "    \"\"\"\n",
    "    estados = {1:False,-1:False,'tablero':tablero}\n",
    "    \n",
    "    if np.all(tablero.diagonal() == tablero.diagonal()[0]) and  tablero.diagonal()[0] != 0:\n",
    "        estados[tablero.diagonal()[0]] = True\n",
    "    elif np.all(np.rot90(tablero).diagonal() == np.rot90(tablero).diagonal()[0]) and np.rot90(tablero).diagonal()[0] != 0:\n",
    "        estados[np.rot90(tablero).diagonal()[0]] = True\n",
    "    return estados"
   ]
  },
  {
   "cell_type": "code",
   "execution_count": 5,
   "metadata": {},
   "outputs": [],
   "source": [
    "def tirada_aleatoria(tablero):\n",
    "    return np.random.choice(np.where(tablero.reshape(tablero.size)==0)[0])"
   ]
  },
  {
   "cell_type": "code",
   "execution_count": 6,
   "metadata": {},
   "outputs": [],
   "source": [
    "def jugar(kind='cc') -> None:\n",
    "    \n",
    "    tirada = 1\n",
    "    tablero = crear_tablero()\n",
    "    \n",
    "    if kind == 'hc':\n",
    "        while True:\n",
    "            print(tablero)\n",
    "            if tirada == 1:\n",
    "                coord = input('Dame las coodenadas para tirar')\n",
    "                if tablero.reshape(tablero.size)[int(coord)] == 0:\n",
    "                    tablero.reshape(tablero.size)[int(coord)] = tirada\n",
    "                else:\n",
    "                    print('Lugar ocuapdo, tira de nuevo')\n",
    "                    continue\n",
    "            else:\n",
    "                tablero.reshape(tablero.size)[tirada_aleatoria(tablero)] = tirada\n",
    "            if win_linea(tablero)[1] or win_linea(tablero.T,transpuesta=True)[1] or win_diagonal(tablero)[1]:\n",
    "                print(tablero)\n",
    "                break\n",
    "            elif win_linea(tablero)[-1] or win_linea(tablero.T,transpuesta=True)[-1] or win_diagonal(tablero)[-1]:\n",
    "                print(tablero)\n",
    "                break\n",
    "            else:\n",
    "                tirada = -1*tirada\n",
    "                if 0 in tablero.reshape(tablero.size):\n",
    "                    pass\n",
    "                else:\n",
    "                    print('Empate')\n",
    "                    print(tablero)\n",
    "                    break\n",
    "    elif kind == 'ch':\n",
    "        while True:\n",
    "            print(tablero)\n",
    "            \n",
    "            if tirada == 1:\n",
    "                tablero.reshape(tablero.size)[tirada_aleatoria(tablero)] = tirada\n",
    "            else:\n",
    "                coord = input('Dame las coodenadas para tirar')\n",
    "                if tablero.reshape(tablero.size)[int(coord)] == 0:\n",
    "                    tablero.reshape(tablero.size)[int(coord)] = tirada\n",
    "                else:\n",
    "                    print('Lugar ocuapdo, tira de nuevo')\n",
    "                    continue\n",
    "                    \n",
    "            if win_linea(tablero)[1] or win_linea(tablero.T,transpuesta=True)[1] or win_diagonal(tablero)[1]:\n",
    "                print(tablero)\n",
    "                break\n",
    "            elif win_linea(tablero)[-1] or win_linea(tablero.T,transpuesta=True)[-1] or win_diagonal(tablero)[-1]:\n",
    "                print(tablero)\n",
    "                break\n",
    "            else:\n",
    "                tirada = -1*tirada\n",
    "                if 0 in tablero.reshape(tablero.size):\n",
    "                    pass\n",
    "                else:\n",
    "                    print('Empate')\n",
    "                    print(tablero)\n",
    "                    break\n",
    "    elif kind == 'cc':\n",
    "        while True:\n",
    "            print(tablero)\n",
    "            print('-----------')\n",
    "            tablero.reshape(tablero.size)[tirada_aleatoria(tablero)] = tirada\n",
    "            if win_linea(tablero)[1] or win_linea(tablero.T,transpuesta=True)[1] or win_diagonal(tablero)[1]:\n",
    "                print(tablero)\n",
    "                print('-----------')\n",
    "                print('Ganó 1')\n",
    "                break\n",
    "            elif win_linea(tablero)[-1] or win_linea(tablero.T,transpuesta=True)[-1] or win_diagonal(tablero)[-1]:\n",
    "                print(tablero)\n",
    "                print('-----------')\n",
    "                print('Ganó -1')\n",
    "                break\n",
    "            else:\n",
    "                tirada = -1*tirada\n",
    "                if 0 in tablero.reshape(tablero.size):\n",
    "                    pass\n",
    "                else:\n",
    "                    print('Empate')\n",
    "                    print(tablero)\n",
    "                    break\n",
    "    elif kind == 'hh':\n",
    "        while True:\n",
    "            print(tablero)\n",
    "            print('-----------')\n",
    "            coord = input('Dame las coodenadas para tirar')\n",
    "            if tablero.reshape(tablero.size)[int(coord)] == 0:\n",
    "                tablero.reshape(tablero.size)[int(coord)] = tirada\n",
    "            else:\n",
    "                print('Lugar ocuapdo, tira de nuevo')\n",
    "                continue\n",
    "            if win_linea(tablero)[1] or win_linea(tablero.T,transpuesta=True)[1] or win_diagonal(tablero)[1]:\n",
    "                print(tablero)\n",
    "                print('-----------')\n",
    "                print('Ganó 1')\n",
    "                break\n",
    "            elif win_linea(tablero)[-1] or win_linea(tablero.T,transpuesta=True)[-1] or win_diagonal(tablero)[-1]:\n",
    "                print(tablero)\n",
    "                print('-----------')\n",
    "                print('Ganó -1')\n",
    "                break\n",
    "            else:\n",
    "                tirada = -1*tirada\n",
    "                if 0 in tablero.reshape(tablero.size):\n",
    "                    pass\n",
    "                else:\n",
    "                    print('Empate')\n",
    "                    print(tablero)\n",
    "                    break\n",
    "    else:\n",
    "        print('Pues nel chavo')"
   ]
  },
  {
   "cell_type": "code",
   "execution_count": 7,
   "metadata": {},
   "outputs": [
    {
     "name": "stdout",
     "output_type": "stream",
     "text": [
      "[[0. 0. 0.]\n",
      " [0. 0. 0.]\n",
      " [0. 0. 0.]]\n",
      "-----------\n",
      "[[0. 0. 0.]\n",
      " [0. 0. 0.]\n",
      " [0. 0. 1.]]\n",
      "-----------\n",
      "[[-1.  0.  0.]\n",
      " [ 0.  0.  0.]\n",
      " [ 0.  0.  1.]]\n",
      "-----------\n",
      "[[-1.  0.  0.]\n",
      " [ 0.  0.  0.]\n",
      " [ 0.  1.  1.]]\n",
      "-----------\n",
      "[[-1.  0.  0.]\n",
      " [-1.  0.  0.]\n",
      " [ 0.  1.  1.]]\n",
      "-----------\n",
      "[[-1.  0.  0.]\n",
      " [-1.  0.  1.]\n",
      " [ 0.  1.  1.]]\n",
      "-----------\n",
      "[[-1.  0.  0.]\n",
      " [-1. -1.  1.]\n",
      " [ 0.  1.  1.]]\n",
      "-----------\n",
      "[[-1.  0.  1.]\n",
      " [-1. -1.  1.]\n",
      " [ 0.  1.  1.]]\n",
      "-----------\n",
      "Ganó 1\n"
     ]
    }
   ],
   "source": [
    "jugar()"
   ]
  },
  {
   "cell_type": "markdown",
   "metadata": {},
   "source": [
    "> _Hacer experimentos de longitud de juego y distribución de ganancias ¿Podemos predecir si va a ganar o perder la máquina?_"
   ]
  },
  {
   "cell_type": "markdown",
   "metadata": {},
   "source": [
    "Ahora, ya construimos un gato. Vamos a hacerlo un clase ¿Por qué? Bueno, lo primero es que si nunca has usado clases te recomiendo mi blog, la segunda es porque más tarde sobre un mismo objeto vamos a poder añadir métodos que nos van a ser súper útiles. "
   ]
  },
  {
   "cell_type": "code",
   "execution_count": 102,
   "metadata": {},
   "outputs": [],
   "source": [
    "class gato:\n",
    "    \n",
    "    def __init__(self):\n",
    "        self.tablero = self.crear_tablero()\n",
    "        \n",
    "    def tirada_aleatoria(self,tablero):\n",
    "        return np.random.choice(np.where(tablero.reshape(tablero.size)==0)[0])\n",
    "\n",
    "    def win_linea(self,tablero,transpuesta=False):\n",
    "        \"\"\"\n",
    "        Este método recibe un talbero y determina si\n",
    "        hay tres elementos iguales en algún renglón.\n",
    "        Si se introduce la matriz transpuesta se indica\n",
    "        y regresa la matriz transpuesta.\n",
    "\n",
    "        Parameters\n",
    "        ----------\n",
    "        tablero : numpy.ndarray\n",
    "            Es un numpy.ndarray de shape (3,3) el cual\n",
    "            simula un tablero de gato\n",
    "        transpuesta : bool\n",
    "            Si se introduce el tablero transpuesto se indica.\n",
    "\n",
    "        Returns\n",
    "        -------\n",
    "        estados : dict\n",
    "            Settings dictionary with keys:\n",
    "                ``1``\n",
    "                    Indicates if 1 won (`bool`).\n",
    "                ``-1``\n",
    "                    Indicates if -1 won (`bool`).\n",
    "                ``\"tablero\"``\n",
    "                    El mismo tablero que se introduce  (`numpy.ndarray`).\n",
    "        \"\"\"\n",
    "        estados = {1:False,-1:False,'tablero':tablero.T if transpuesta else tablero}\n",
    "        for i in range(3):\n",
    "            if np.all(tablero[i,:] == tablero[i,0]) and tablero[i,0] != 0:\n",
    "                estados[tablero[i,0]] = True\n",
    "                return estados\n",
    "        return estados\n",
    "\n",
    "    def win_diagonal(self,tablero):\n",
    "        \"\"\"\n",
    "        Este método recibe un talbero y determina si\n",
    "        hay tres elementos iguales en algún renglón.\n",
    "        Si se introduce la matriz transpuesta se indica\n",
    "        y regresa la matriz transpuesta.\n",
    "\n",
    "        Parameters\n",
    "        ----------\n",
    "        tablero : numpy.ndarray\n",
    "            Es un numpy.ndarray de shape (3,3) el cual\n",
    "            simula un tablero de gato\n",
    "        transpuesta : bool\n",
    "            Si se introduce el tablero transpuesto se indica.\n",
    "\n",
    "        Returns\n",
    "        -------\n",
    "        estados : dict\n",
    "            Settings dictionary with keys:\n",
    "                ``1``\n",
    "                    Indicates if 1 won (`bool`).\n",
    "                ``-1``\n",
    "                    Indicates if -1 won (`bool`).\n",
    "                ``\"tablero\"``\n",
    "                    El mismo tablero que se introduce  (`numpy.ndarray`).\n",
    "        \"\"\"\n",
    "        estados = {1:False,-1:False,'tablero':tablero}\n",
    "\n",
    "        if np.all(tablero.diagonal() == tablero.diagonal()[0]) and  tablero.diagonal()[0] != 0:\n",
    "            estados[tablero.diagonal()[0]] = True\n",
    "        elif np.all(np.rot90(tablero).diagonal() == np.rot90(tablero).diagonal()[0]) and np.rot90(tablero).diagonal()[0] != 0:\n",
    "            estados[np.rot90(tablero).diagonal()[0]] = True\n",
    "        return estados\n",
    "\n",
    "    \n",
    "    def jugar(self,kind='cc') -> None:\n",
    "\n",
    "        tirada = 1\n",
    "        tablero = self.crear_tablero()\n",
    "        length = 0\n",
    "        toWin = {1:False, -1:False, 'length':0}\n",
    "\n",
    "        if kind == 'hc':\n",
    "            while True:\n",
    "                print(tablero)\n",
    "                print('-----------')\n",
    "                if tirada == 1:\n",
    "                    coord = input('Dame las coodenadas para tirar')\n",
    "                    if tablero.reshape(tablero.size)[int(coord)] == 0:\n",
    "                        tablero.reshape(tablero.size)[int(coord)] = tirada\n",
    "                    else:\n",
    "                        print('Lugar ocuapdo, tira de nuevo')\n",
    "                        continue\n",
    "                else:\n",
    "                    tablero.reshape(tablero.size)[self.tirada_aleatoria(tablero)] = tirada\n",
    "                if self.win_linea(tablero)[1] or self.win_linea(tablero.T,transpuesta=True)[1] or self.win_diagonal(tablero)[1]:\n",
    "                    print(tablero)\n",
    "                    print('-----------')\n",
    "                    print('Ganó -1')\n",
    "                    break\n",
    "                elif self.win_linea(tablero)[-1] or self.win_linea(tablero.T,transpuesta=True)[-1] or self.win_diagonal(tablero)[-1]:\n",
    "                    print(tablero)\n",
    "                    print('-----------')\n",
    "                    print('Ganó -1')\n",
    "                    break\n",
    "                else:\n",
    "                    tirada = -1*tirada\n",
    "                    if 0 in tablero.reshape(tablero.size):\n",
    "                        pass\n",
    "                    else:\n",
    "                        print(tablero)\n",
    "                        print('-----------')\n",
    "                        print('Empate')\n",
    "                        break\n",
    "        elif kind == 'ch':\n",
    "            while True:\n",
    "                print(tablero)\n",
    "                print('-----------')\n",
    "                if tirada == 1:\n",
    "                    tablero.reshape(tablero.size)[self.tirada_aleatoria(tablero)] = tirada\n",
    "                else:\n",
    "                    coord = input('Dame las coodenadas para tirar')\n",
    "                    if tablero.reshape(tablero.size)[int(coord)] == 0:\n",
    "                        tablero.reshape(tablero.size)[int(coord)] = tirada\n",
    "                    else:\n",
    "                        print('Lugar ocuapdo, tira de nuevo')\n",
    "                        continue\n",
    "\n",
    "                if self.win_linea(tablero)[1] or self.win_linea(tablero.T,transpuesta=True)[1] or self.win_diagonal(tablero)[1]:\n",
    "                    print(tablero)\n",
    "                    print('-----------')\n",
    "                    print('Ganó -1')\n",
    "                    break\n",
    "                elif self.win_linea(tablero)[-1] or self.win_linea(tablero.T,transpuesta=True)[-1] or self.win_diagonal(tablero)[-1]:\n",
    "                    print(tablero)\n",
    "                    print('-----------')\n",
    "                    print('Ganó -1')\n",
    "                    break\n",
    "                else:\n",
    "                    tirada = -1*tirada\n",
    "                    if 0 in tablero.reshape(tablero.size):\n",
    "                        pass\n",
    "                    else:\n",
    "                        print(tablero)\n",
    "                        print('-----------')\n",
    "                        print('Empate')\n",
    "                        break\n",
    "        elif kind == 'cc':\n",
    "            while True:\n",
    "                length += 1\n",
    "                tablero.reshape(tablero.size)[tirada_aleatoria(tablero)] = tirada\n",
    "                if self.win_linea(tablero)[1] or self.win_linea(tablero.T,transpuesta=True)[1] or self.win_diagonal(tablero)[1]:\n",
    "                    length += 1\n",
    "                    toWin[1],toWin['length'] = True,length\n",
    "                    break\n",
    "                elif self.win_linea(tablero)[-1] or self.win_linea(tablero.T,transpuesta=True)[-1] or self.win_diagonal(tablero)[-1]:\n",
    "                    length += 1\n",
    "                    toWin[-1],toWin['length'] = True,length\n",
    "                    break\n",
    "                else:\n",
    "                    tirada = -1*tirada\n",
    "                    if 0 in tablero.reshape(tablero.size):\n",
    "                        pass\n",
    "                    else:\n",
    "                        length += 1\n",
    "                        toWin['length'] = length\n",
    "                        break\n",
    "            return toWin\n",
    "        elif kind == 'hh':\n",
    "            while True:\n",
    "                print(tablero)\n",
    "                print('-----------')\n",
    "                coord = input('Dame las coodenadas para tirar')\n",
    "                if tablero.reshape(tablero.size)[int(coord)] == 0:\n",
    "                    tablero.reshape(tablero.size)[int(coord)] = tirada\n",
    "                else:\n",
    "                    print('Lugar ocuapdo, tira de nuevo')\n",
    "                    continue\n",
    "                    \n",
    "                if self.win_linea(tablero)[1] or self.win_linea(tablero.T,transpuesta=True)[1] or self.win_diagonal(tablero)[1]:\n",
    "                    print(tablero)\n",
    "                    print('-----------')\n",
    "                    print('Ganó 1')\n",
    "                    break\n",
    "                elif self.win_linea(tablero)[-1] or self.win_linea(tablero.T,transpuesta=True)[-1] or self.win_diagonal(tablero)[-1]:\n",
    "                    print(tablero)\n",
    "                    print('-----------')\n",
    "                    print('Ganó -1')\n",
    "                    break\n",
    "                else:\n",
    "                    tirada = -1*tirada\n",
    "                    if 0 in tablero.reshape(tablero.size):\n",
    "                        pass\n",
    "                    else:\n",
    "                        print(tablero)\n",
    "                        print('-----------')\n",
    "                        print('Empate')\n",
    "                        break\n",
    "        else:\n",
    "            print('Pues nel chavo')\n",
    "\n",
    "    def crear_tablero(self):\n",
    "        \"\"\"\n",
    "        Este método construye un tablero\n",
    "        en forma de matriz cuadrada de\n",
    "        tamaño 3\n",
    "\n",
    "        Returns\n",
    "        -------\n",
    "        numpy.ndarray\n",
    "            A numpy array with shape (3,3) and\n",
    "            filled with zeros.\n",
    "        \"\"\"\n",
    "        return np.zeros((3,3))"
   ]
  },
  {
   "cell_type": "code",
   "execution_count": 47,
   "metadata": {},
   "outputs": [],
   "source": [
    "G = gato()"
   ]
  },
  {
   "cell_type": "code",
   "execution_count": 68,
   "metadata": {},
   "outputs": [
    {
     "data": {
      "text/plain": [
       "{1: True, -1: False, 'length': 9}"
      ]
     },
     "execution_count": 68,
     "metadata": {},
     "output_type": "execute_result"
    }
   ],
   "source": [
    "G.jugar()"
   ]
  },
  {
   "cell_type": "markdown",
   "metadata": {},
   "source": [
    "Ya tenemos un gato ¿Pero realmente entendemos el juego de gato?"
   ]
  },
  {
   "cell_type": "markdown",
   "metadata": {},
   "source": [
    "Voy a abordar un poco de [teoría de complejidad computacional](https://en.wikipedia.org/wiki/Computational_complexity_theory) pero antes vamos a sentar un precedente histórico ¿Qué tanto tarda el sistema en ganar, qué tan frecuente es un empate, cuál es la distribución de partidas ganadas entres 1 y -1?"
   ]
  },
  {
   "cell_type": "code",
   "execution_count": 110,
   "metadata": {},
   "outputs": [],
   "source": [
    "G = gato()\n",
    "whoWin = []\n",
    "size = []"
   ]
  },
  {
   "cell_type": "code",
   "execution_count": 111,
   "metadata": {},
   "outputs": [],
   "source": [
    "for i in range(20000):\n",
    "    a = G.jugar()\n",
    "    if a[1]:\n",
    "        whoWin.append(1)\n",
    "        size.append(a['length'])\n",
    "    elif a[-1]:\n",
    "        whoWin.append(-1)\n",
    "        size.append(a['length'])\n",
    "    else:\n",
    "        whoWin.append(0)\n",
    "        size.append(a['length'])"
   ]
  },
  {
   "cell_type": "code",
   "execution_count": 112,
   "metadata": {},
   "outputs": [
    {
     "data": {
      "text/plain": [
       "Counter({1: 11753, 0: 2522, -1: 5725})"
      ]
     },
     "execution_count": 112,
     "metadata": {},
     "output_type": "execute_result"
    }
   ],
   "source": [
    "Counter(whoWin)"
   ]
  },
  {
   "cell_type": "code",
   "execution_count": 113,
   "metadata": {},
   "outputs": [
    {
     "data": {
      "text/plain": [
       "Counter({8: 5266, 10: 7116, 7: 1798, 9: 3927, 6: 1893})"
      ]
     },
     "execution_count": 113,
     "metadata": {},
     "output_type": "execute_result"
    }
   ],
   "source": [
    "Counter(size)"
   ]
  },
  {
   "cell_type": "code",
   "execution_count": 123,
   "metadata": {},
   "outputs": [
    {
     "data": {
      "text/plain": [
       "dict_items([(1, 11753), (0, 2522), (-1, 5725)])"
      ]
     },
     "execution_count": 123,
     "metadata": {},
     "output_type": "execute_result"
    }
   ],
   "source": [
    "Counter(whoWin).items()"
   ]
  },
  {
   "cell_type": "code",
   "execution_count": 128,
   "metadata": {},
   "outputs": [
    {
     "data": {
      "text/plain": [
       "[11753, 2522, 5725]"
      ]
     },
     "execution_count": 128,
     "metadata": {},
     "output_type": "execute_result"
    }
   ],
   "source": [
    "list(Counter(whoWin).values())"
   ]
  },
  {
   "cell_type": "code",
   "execution_count": 122,
   "metadata": {},
   "outputs": [
    {
     "data": {
      "text/plain": [
       "(dict_keys([1, 0, -1]), dict_values([11753, 2522, 5725]))"
      ]
     },
     "execution_count": 122,
     "metadata": {},
     "output_type": "execute_result"
    }
   ],
   "source": [
    "(Counter(whoWin).keys(),Counter(whoWin).values())"
   ]
  },
  {
   "cell_type": "code",
   "execution_count": 130,
   "metadata": {},
   "outputs": [
    {
     "data": {
      "image/png": "[encoded data removed]",
      "text/plain": [
       "<Figure size 600x600 with 1 Axes>"
      ]
     },
     "metadata": {},
     "output_type": "display_data"
    }
   ],
   "source": [
    "fig, ax = plt.subplots(1,1,figsize=(5,5),dpi=120)\n",
    "ax.bar(x=list(Counter(whoWin).keys()),height=list(Counter(whoWin).values()))\n",
    "plt.show()"
   ]
  },
  {
   "cell_type": "code",
   "execution_count": 131,
   "metadata": {},
   "outputs": [
    {
     "data": {
      "image/png": "[encoded data removed]",
      "text/plain": [
       "<Figure size 600x600 with 1 Axes>"
      ]
     },
     "metadata": {},
     "output_type": "display_data"
    }
   ],
   "source": [
    "fig, ax = plt.subplots(1,1,figsize=(5,5),dpi=120)\n",
    "ax.bar(x=list(Counter(size).keys()),height=list(Counter(size).values()))\n",
    "plt.show()"
   ]
  },
  {
   "cell_type": "code",
   "execution_count": null,
   "metadata": {},
   "outputs": [],
   "source": []
  }
 ],
 "metadata": {
  "kernelspec": {
   "display_name": "Python 3",
   "language": "python",
   "name": "python3"
  },
  "language_info": {
   "codemirror_mode": {
    "name": "ipython",
    "version": 3
   },
   "file_extension": ".py",
   "mimetype": "text/x-python",
   "name": "python",
   "nbconvert_exporter": "python",
   "pygments_lexer": "ipython3",
   "version": "3.7.3"
  }
 },
 "nbformat": 4,
 "nbformat_minor": 4
}
